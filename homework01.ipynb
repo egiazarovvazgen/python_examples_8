{
 "cells": [
  {
   "cell_type": "markdown",
   "id": "968faed8-ee6d-4f51-acbb-d89f02627f1c",
   "metadata": {},
   "source": [
    "## 2 задача"
   ]
  },
  {
   "cell_type": "markdown",
   "id": "b0f3858c-fa8d-4907-963e-fc88cffece21",
   "metadata": {},
   "source": [
    "На складе лежат разные фрукты в разном количестве. Нужно написать функцию, которая на вход принимает любое количество названий фруктов и их количество, а возвращает общее количество фруктов на складе."
   ]
  },
  {
   "cell_type": "code",
   "execution_count": 2,
   "id": "3cb25809-acf3-43fa-9c7c-3402684f30aa",
   "metadata": {},
   "outputs": [
    {
     "data": {
      "text/plain": [
       "66"
      ]
     },
     "execution_count": 2,
     "metadata": {},
     "output_type": "execute_result"
    }
   ],
   "source": [
    "def fruit_sum(**kwargs):\n",
    "    return sum(kwargs.values())\n",
    "\n",
    "fruit_sum(apples = 11, oranges = 22, bananas = 33)"
   ]
  },
  {
   "cell_type": "markdown",
   "id": "5a577a66-f8bc-4adf-85e2-98bd71462a5d",
   "metadata": {},
   "source": [
    "## 3 задача"
   ]
  },
  {
   "cell_type": "markdown",
   "id": "8312aff3-13ac-4115-96cf-4df0552e83a1",
   "metadata": {},
   "source": [
    "Дан список с затратами на рекламу. Но в данных есть ошибки, некоторые затраты имеют отрицательную величину. Удалите такие значения из списка и посчитайте суммарные затраты.\n",
    "\n",
    "```\n",
    "[100, 125, -90, 345, 655, -1, 0, 200]\n",
    "```\n",
    "\n",
    "Используйте list comprehensions."
   ]
  },
  {
   "cell_type": "code",
   "execution_count": 7,
   "id": "de23d4ab-5590-4e48-a765-6d6f8853cee4",
   "metadata": {},
   "outputs": [
    {
     "data": {
      "text/plain": [
       "[100, 125, 345, 655, 0, 200]"
      ]
     },
     "execution_count": 7,
     "metadata": {},
     "output_type": "execute_result"
    }
   ],
   "source": [
    "expenses_list = [100, 125, -90, 345, 655, -1, 0, 200]\n",
    "expenses_positive = [i for i in expenses_list if i >= 0]\n",
    "\n",
    "expenses_positive"
   ]
  },
  {
   "cell_type": "code",
   "execution_count": 9,
   "id": "26781670-f3b6-4ff0-9bcb-727a6e6584f2",
   "metadata": {},
   "outputs": [
    {
     "data": {
      "text/plain": [
       "1425"
      ]
     },
     "execution_count": 9,
     "metadata": {},
     "output_type": "execute_result"
    }
   ],
   "source": [
    "sum(expenses_positive)"
   ]
  },
  {
   "cell_type": "markdown",
   "id": "339e3246-bcef-4188-873b-77b1b2899675",
   "metadata": {},
   "source": [
    "## 4 задача"
   ]
  },
  {
   "cell_type": "markdown",
   "id": "6db505af-295f-4d99-b9fa-cf023f7bf415",
   "metadata": {},
   "source": [
    "Даны два списка.\n",
    "\n",
    "Даты покупок:\n",
    "```\n",
    "['2021-09-14', '2021-12-15', '2021-09-08', '2021-12-05', '2021-10-09', '2021-09-30', '2021-12-22', '2021-11-29', '2021-12-24', '2021-11-26', '2021-10-27', '2021-12-18', '2021-11-09', '2021-11-23', '2021-09-27', '2021-10-02', '2021-12-27', '2021-09-20', '2021-12-13', '2021-11-01', '2021-11-09', '2021-12-06', '2021-12-08', '2021-10-09', '2021-10-31', '2021-09-30', '2021-11-09', '2021-12-13', '2021-10-26', '2021-12-09']\n",
    "```\n",
    "Суммы покупок по датам:\n",
    "```\n",
    "[1270, 8413, 9028, 3703, 5739, 4095, 295, 4944, 5723, 3701, 4471, 651, 7037, 4274, 6275, 4988, 6930, 2971, 6592, 2004, 2822, 519, 3406, 2732, 5015, 2008, 316, 6333, 5700, 2887]\n",
    "```"
   ]
  },
  {
   "cell_type": "markdown",
   "id": "63efe2d5-d648-4c27-80af-e2e85fbf0e61",
   "metadata": {},
   "source": [
    "### 4.1 Найдите, какая выручка у компании в ноябре\n",
    "\n",
    "Используйте list comprehensions."
   ]
  },
  {
   "cell_type": "code",
   "execution_count": 17,
   "id": "6ccd6666-f765-4457-a058-49e8a024cb11",
   "metadata": {},
   "outputs": [
    {
     "data": {
      "text/plain": [
       "25098"
      ]
     },
     "execution_count": 17,
     "metadata": {},
     "output_type": "execute_result"
    }
   ],
   "source": [
    "dates_list = ['2021-09-14', '2021-12-15', '2021-09-08', '2021-12-05', '2021-10-09', '2021-09-30', '2021-12-22', '2021-11-29',\n",
    "              '2021-12-24', '2021-11-26', '2021-10-27', '2021-12-18', '2021-11-09', '2021-11-23', '2021-09-27', '2021-10-02',\n",
    "              '2021-12-27', '2021-09-20', '2021-12-13', '2021-11-01', '2021-11-09', '2021-12-06', '2021-12-08', '2021-10-09',\n",
    "              '2021-10-31', '2021-09-30', '2021-11-09', '2021-12-13', '2021-10-26', '2021-12-09']\n",
    "amounts_by_dates = [1270, 8413, 9028, 3703, 5739, 4095, 295, 4944, 5723, 3701, 4471, 651, 7037, 4274, 6275, 4988, 6930, 2971, 6592,\n",
    "                    2004, 2822, 519, 3406, 2732, 5015, 2008, 316, 6333, 5700, 2887]\n",
    "months_list = [i.split('-')[1] for i in dates_list]\n",
    "\n",
    "sum([amount for dates, amount in zip(dates_list, amounts_by_dates) if dates[5:7] == \"11\"])"
   ]
  },
  {
   "cell_type": "markdown",
   "id": "5785d8cb-1b8a-4244-ab2a-b893de1f4035",
   "metadata": {},
   "source": [
    "### 4.2 Найдите выручку компании в зависимости от месяца\n",
    "\n",
    "Для этого напишите функцию, которая на вход принимает список с датами и список с выручкой, а на выходе словарь, где ключи - это месяцы, а значения - это выручка.\n",
    "\n",
    "Используйте аннотирование типов."
   ]
  },
  {
   "cell_type": "code",
   "execution_count": 18,
   "id": "b0fc10a3-9320-4b0f-9b45-c593f6de28bd",
   "metadata": {},
   "outputs": [
    {
     "data": {
      "text/plain": [
       "{'09': 25647, '12': 45452, '10': 28645, '11': 25098}"
      ]
     },
     "execution_count": 18,
     "metadata": {},
     "output_type": "execute_result"
    }
   ],
   "source": [
    "def receipt_by_month(dates_list: list, receipt_list: list) -> dict:\n",
    "    months_dict = {}\n",
    "    for i in range(len(dates_list)):\n",
    "        if dates_list[i].split('-')[1] in months_dict.keys():\n",
    "            months_dict[dates_list[i].split('-')[1]] += receipt_list[i]\n",
    "        else:\n",
    "            months_dict[dates_list[i].split('-')[1]] = receipt_list[i]\n",
    "    return months_dict\n",
    "\n",
    "receipt_by_month(dates_list, amounts_by_dates)"
   ]
  }
 ],
 "metadata": {
  "kernelspec": {
   "display_name": "anaconda-2022.05-py39",
   "language": "python",
   "name": "conda-env-anaconda-2022.05-py39-py"
  },
  "language_info": {
   "codemirror_mode": {
    "name": "ipython",
    "version": 3
   },
   "file_extension": ".py",
   "mimetype": "text/x-python",
   "name": "python",
   "nbconvert_exporter": "python",
   "pygments_lexer": "ipython3",
   "version": "3.9.12"
  }
 },
 "nbformat": 4,
 "nbformat_minor": 5
}
